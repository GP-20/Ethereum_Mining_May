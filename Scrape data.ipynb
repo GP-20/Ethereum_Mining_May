{
 "cells": [
  {
   "cell_type": "code",
   "execution_count": null,
   "metadata": {},
   "outputs": [],
   "source": [
    "from datetime import datetime,timezone\n",
    "import numpy as np\n",
    "import pandas as pd\n",
    "from etherscan import Etherscan\n",
    "from dotenv import load_dotenv\n",
    "import os"
   ]
  },
  {
   "cell_type": "code",
   "execution_count": null,
   "metadata": {},
   "outputs": [],
   "source": [
    "load_dotenv()\n",
    "API_key=os.environ[\"API_key\"]\n",
    "eth = Etherscan(API_key)"
   ]
  },
  {
   "cell_type": "code",
   "execution_count": null,
   "metadata": {},
   "outputs": [],
   "source": [
    "start=datetime(2021,5,1)\n",
    "end=datetime(2021,6,1)\n",
    "start_ts=start.replace(tzinfo=timezone.utc).timestamp()\n",
    "end_ts=end.replace(tzinfo=timezone.utc).timestamp()"
   ]
  },
  {
   "cell_type": "code",
   "execution_count": null,
   "metadata": {},
   "outputs": [],
   "source": [
    "start_block=eth.get_block_number_by_timestamp(int(start_ts),\"after\")\n",
    "end_block=eth.get_block_number_by_timestamp(int(end_ts),\"before\")"
   ]
  },
  {
   "cell_type": "code",
   "execution_count": null,
   "metadata": {},
   "outputs": [],
   "source": [
    "blocks=np.arange(int(start_block),int(end_block)+1,1)"
   ]
  },
  {
   "cell_type": "code",
   "execution_count": null,
   "metadata": {},
   "outputs": [],
   "source": [
    "data=[]\n",
    "total=len(blocks)\n",
    "j=1\n",
    "for i in blocks:\n",
    "    try:\n",
    "        dic={}\n",
    "        info=eth.get_block_reward_by_block_number(i)\n",
    "        dic[\"block_number\"]=i\n",
    "        dic[\"timestamp\"]=info[\"timeStamp\"]\n",
    "        dic[\"block_miner\"]=info[\"blockMiner\"]\n",
    "        dic[\"block_reward\"]=info[\"blockReward\"]\n",
    "        data.append(dic)\n",
    "        if j % 1000==0:\n",
    "            print(f\"{j} out of {total}\")\n",
    "        j+=1\n",
    "    \n",
    "    except:\n",
    "        errors=[]\n",
    "        print(f\"error at block {i}\")\n",
    "        errors.append(i)\n",
    "    "
   ]
  },
  {
   "cell_type": "code",
   "execution_count": null,
   "metadata": {},
   "outputs": [],
   "source": [
    "df=pd.DataFrame(data)"
   ]
  },
  {
   "cell_type": "code",
   "execution_count": null,
   "metadata": {},
   "outputs": [],
   "source": [
    "df.to_csv(\"ethereum mining data.csv\",index=False)"
   ]
  }
 ],
 "metadata": {
  "kernelspec": {
   "display_name": "Python 3.8.3 32-bit",
   "language": "python",
   "name": "python38332bit2517dbf4389f4116850c86a593e23435"
  },
  "language_info": {
   "codemirror_mode": {
    "name": "ipython",
    "version": 3
   },
   "file_extension": ".py",
   "mimetype": "text/x-python",
   "name": "python",
   "nbconvert_exporter": "python",
   "pygments_lexer": "ipython3",
   "version": "3.8.3"
  }
 },
 "nbformat": 4,
 "nbformat_minor": 4
}
